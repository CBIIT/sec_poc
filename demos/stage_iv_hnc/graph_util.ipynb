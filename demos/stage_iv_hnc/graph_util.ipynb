{
 "cells": [
  {
   "cell_type": "code",
   "execution_count": 1,
   "metadata": {},
   "outputs": [],
   "source": [
    "import psycopg2 as pg"
   ]
  },
  {
   "cell_type": "code",
   "execution_count": 2,
   "metadata": {},
   "outputs": [],
   "source": [
    "conn = pg.connect(dbname='sec', user='secapp', host='r_363-postgres-1')\n",
    "curr = conn.cursor()"
   ]
  },
  {
   "cell_type": "code",
   "execution_count": 3,
   "metadata": {},
   "outputs": [],
   "source": [
    "class Node:\n",
    "    code: str\n",
    "    children: list[\"Node\"]\n",
    "    child_codes: set[str]\n",
    "\n",
    "    def __init__(self, code) -> None:\n",
    "        self.code = code\n",
    "        self.children = []\n",
    "        self.child_codes = set()\n",
    "\n",
    "    def get(self, code):\n",
    "        if self.code == code:\n",
    "            return self\n",
    "        else:\n",
    "            for child in self.children:\n",
    "                node = child.get(code)\n",
    "                if node:\n",
    "                    return node\n",
    "            return None\n",
    "\n",
    "    def insert(self, parent: 'Node', code: str):\n",
    "        if parent.code == code:\n",
    "            return None\n",
    "\n",
    "        if self is parent:\n",
    "            if code not in self.child_codes:\n",
    "                self.child_codes.add(code)\n",
    "                self.children.append(Node(code))\n",
    "            return [child for child in self.children if child.code == code][0]\n",
    "        else:\n",
    "            for child in self.children:\n",
    "                node = child.insert(parent, code)\n",
    "                if node:\n",
    "                    return node\n",
    "            return None\n",
    "\n",
    "    def __repr__(self) -> str:\n",
    "        return f\"<Node>({self.code})\""
   ]
  },
  {
   "cell_type": "markdown",
   "metadata": {},
   "source": [
    "Get the paths by querying like so,\n",
    "```sql\n",
    "select path from ncit_tc_with_path where descendant = 'CHILD' and path ~ '\\yROOT\\y';\n",
    "```"
   ]
  },
  {
   "cell_type": "code",
   "execution_count": 4,
   "metadata": {},
   "outputs": [],
   "source": [
    "paths = []\n",
    "with open('../../paths.txt') as f:\n",
    "    for line in f:\n",
    "        paths.append(line.strip())\n",
    "# paths = [\"C35850|C9315|C132728|C132732|C132733\"]"
   ]
  },
  {
   "cell_type": "code",
   "execution_count": 5,
   "metadata": {},
   "outputs": [],
   "source": [
    "def printgraph(node: Node, level=0):\n",
    "    global printed_dupe, outfile\n",
    "    if node.code in visited:\n",
    "        if not printed_dupe:\n",
    "            outfile.write(\"\\t\" * level + f\" - ({node.code}) dupe* \\n\")\n",
    "            printed_dupe = True\n",
    "    elif node.code:\n",
    "        printed_dupe = False\n",
    "        curr.execute(\"select pref_name,display_name from ncit where code = %s\", (node.code,))\n",
    "        pref_name, display_name = curr.fetchone()\n",
    "        outfile.write(\"\\t\" * level + \" - (\" + node.code + \") \" + (display_name or pref_name) + \"\\n\")\n",
    "        visited.add(node.code)\n",
    "    else:\n",
    "        printed_dupe = False\n",
    "        outfile.write(\"- root\" + \"\\n\")\n",
    "        visited.add(None)\n",
    "    for child in node.children:\n",
    "        printgraph(child, level + 1)"
   ]
  },
  {
   "cell_type": "code",
   "execution_count": 6,
   "metadata": {},
   "outputs": [],
   "source": [
    "visited = set()\n",
    "printed_dupe = False\n",
    "\n",
    "\n",
    "root = Node(None)\n",
    "for path in paths:\n",
    "    codes = path.split(\"|\")\n",
    "    parent = root\n",
    "    current = None\n",
    "    for code in codes:\n",
    "        current = root.insert(parent, code)\n",
    "        if current:\n",
    "            parent = current"
   ]
  },
  {
   "cell_type": "code",
   "execution_count": 7,
   "metadata": {},
   "outputs": [],
   "source": [
    "outfile = open(\"../../paths.out.txt\", \"w\")\n",
    "printgraph(root)\n",
    "outfile.close()"
   ]
  },
  {
   "cell_type": "code",
   "execution_count": null,
   "metadata": {},
   "outputs": [],
   "source": [
    "from nltk import Tree\n",
    "\n",
    "visited = set()\n",
    "printed_dupe = False\n",
    "\n",
    "\n",
    "def to_nltk_tree_verbose(node: Node):\n",
    "    pref_name, display_name = None, None\n",
    "    if node.code:\n",
    "        curr.execute(\n",
    "            \"select pref_name,display_name from ncit where code = %s\", (node.code,)\n",
    "        )\n",
    "        pref_name, display_name = curr.fetchone()\n",
    "    if len(node.children) > 0:\n",
    "        return Tree(\n",
    "            f\"({node.code or 'root'}) {display_name or pref_name}\",\n",
    "            [to_nltk_tree_verbose(child) for child in node.children],\n",
    "        )\n",
    "    else:\n",
    "        return f\"({node.code}) {display_name or pref_name}\"\n",
    "\n",
    "\n",
    "def to_nltk_tree(node: Node):\n",
    "    global printed_dupe, outfile\n",
    "    if node.code in visited:\n",
    "        if not printed_dupe:\n",
    "            printed_dupe = True\n",
    "            return f\"({node.code}) dupe*\"\n",
    "    elif node.code:\n",
    "        printed_dupe = False\n",
    "        curr.execute(\n",
    "            \"select pref_name,display_name from ncit where code = %s\", (node.code,)\n",
    "        )\n",
    "        pref_name, display_name = curr.fetchone()\n",
    "        visited.add(node.code)\n",
    "        if len(node.children) > 0:\n",
    "            return Tree(\n",
    "                \"(\" + node.code + \") \" + (display_name or pref_name),\n",
    "                [to_nltk_tree(child) for child in node.children],\n",
    "            )\n",
    "        return \"(\" + node.code + \") \" + (display_name or pref_name)\n",
    "    else:\n",
    "        printed_dupe = False\n",
    "        visited.add(None)\n",
    "        if len(node.children) > 0:\n",
    "            return Tree(\n",
    "                \"(root)\",\n",
    "                [to_nltk_tree(child) for child in node.children],\n",
    "            )\n",
    "        return \"(root)\"\n",
    "\n",
    "\n",
    "to_nltk_tree_verbose(root)"
   ]
  }
 ],
 "metadata": {
  "kernelspec": {
   "display_name": "venv",
   "language": "python",
   "name": "python3"
  },
  "language_info": {
   "codemirror_mode": {
    "name": "ipython",
    "version": 3
   },
   "file_extension": ".py",
   "mimetype": "text/x-python",
   "name": "python",
   "nbconvert_exporter": "python",
   "pygments_lexer": "ipython3",
   "version": "3.10.16"
  }
 },
 "nbformat": 4,
 "nbformat_minor": 2
}
