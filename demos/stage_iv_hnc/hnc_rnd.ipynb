{
 "cells": [
  {
   "cell_type": "code",
   "execution_count": 2,
   "metadata": {},
   "outputs": [],
   "source": [
    "import pandas as pd\n",
    "import json\n",
    "import requests\n",
    "import os"
   ]
  },
  {
   "cell_type": "code",
   "execution_count": 5,
   "metadata": {},
   "outputs": [],
   "source": [
    "maintype = \"C4912\" # Bladder Cancer\n",
    "stage = [\"C140425\"] # Stage IVA Bladder Cancer"
   ]
  },
  {
   "cell_type": "code",
   "execution_count": null,
   "metadata": {},
   "outputs": [],
   "source": [
    "collection = []\n",
    "start = 0\n",
    "while True:\n",
    "    res = requests.post(\n",
    "        \"https://clinicaltrialsapi.cancer.gov/api/v2/trials\",\n",
    "        headers={\n",
    "            \"accept\": \"*/*\",\n",
    "            \"X-API-KEY\": os.environ[\"CTS_V2_API_KEY\"],\n",
    "        },\n",
    "        json={\n",
    "            \"current_trial_status\": [\n",
    "                \"Active\",\n",
    "                \"Approved\",\n",
    "                \"Enrolling by Invitation\",\n",
    "                \"In Review\",\n",
    "                \"Temporarily Closed to Accrual\",\n",
    "                \"Temporarily Closed to Accrual and Intervention\",\n",
    "            ],\n",
    "            \"include\": [\"nct_id\", \"diseases\"],\n",
    "            \"maintype\": maintype,\n",
    "            \"stage\": stage,\n",
    "            \"from\": start,\n",
    "            \"size\": 50,\n",
    "        },\n",
    "    )\n",
    "    data = res.json()\n",
    "    collection.extend(data[\"data\"])\n",
    "    if not data[\"data\"]:\n",
    "        break\n",
    "    else:\n",
    "        print(\"Have\", len(collection), \"Need\", data[\"total\"])\n",
    "        start = len(collection)"
   ]
  },
  {
   "cell_type": "markdown",
   "metadata": {},
   "source": [
    "#### construct graph of trial disease nodes"
   ]
  },
  {
   "cell_type": "code",
   "execution_count": null,
   "metadata": {},
   "outputs": [],
   "source": [
    "class Node:\n",
    "    id: str\n",
    "    data: dict[str, str]\n",
    "    links: list[\"Node\"]\n",
    "\n",
    "    def __init__(self, data, nid) -> None:\n",
    "        self.id = nid\n",
    "        self.data = {\"name\": data['name']}\n",
    "        self.links = []\n",
    "\n",
    "    def _linked(self, nid) -> bool:\n",
    "        for node in self.links:\n",
    "            if node.id == nid:\n",
    "                return True\n",
    "        return False\n",
    "\n",
    "    def link(self, node):\n",
    "        if self._linked(node.id):\n",
    "            return\n",
    "        self.links.append(node)\n"
   ]
  },
  {
   "cell_type": "code",
   "execution_count": null,
   "metadata": {},
   "outputs": [],
   "source": [
    "# Lookup data for a disease code\n",
    "index = {}\n",
    "for t in collection:\n",
    "    t_id = t[\"nct_id\"]\n",
    "    for d in t[\"diseases\"]:\n",
    "        d_id = d[\"nci_thesaurus_concept_id\"]\n",
    "        if d_id not in index:\n",
    "            index[d_id] = {\n",
    "                \"name\": d[\"name\"],\n",
    "                \"parents\": d[\"parents\"],\n",
    "            }\n",
    "        else:\n",
    "            p1 = set(d[\"parents\"])\n",
    "            p2 = set(index[d_id][\"parents\"])\n",
    "            assert not p1.difference(p2)\n",
    "\n",
    "code2node: dict[str, Node] = {}\n",
    "# iterate over all indexed codes/data\n",
    "for code, data in index.items():\n",
    "    # check if code is a node\n",
    "    if code not in code2node:\n",
    "        # create the node\n",
    "        code2node[code] = Node(data, code)\n",
    "        # iterate over parents\n",
    "        for parent_code in data[\"parents\"]:\n",
    "            # check if parent code is a node\n",
    "            if parent_code not in code2node:\n",
    "                # create the parent node\n",
    "                code2node[parent_code] = Node(index[parent_code], parent_code)\n",
    "            # associate the node with its parent nodes\n",
    "            code2node[code].link(code2node[parent_code])\n",
    "    else:\n",
    "        # the node already exists\n",
    "        # but its parents may not\n",
    "        node = code2node[code]\n",
    "        # get the node's expected links (parents)\n",
    "        parents = data[\"parents\"]\n",
    "        # get the node's actual links (parents)\n",
    "        links = [n.id for n in node.links]\n",
    "        for parent_code in parents:\n",
    "            # check if the expected link exists\n",
    "            if parent_code not in links:\n",
    "                if parent_code not in code2node:\n",
    "                    # create it if not\n",
    "                    code2node[parent_code] = Node(index[parent_code], parent_code)\n",
    "                node.link(code2node[parent_code])\n"
   ]
  },
  {
   "cell_type": "code",
   "execution_count": null,
   "metadata": {},
   "outputs": [],
   "source": [
    "assert code2node.keys() == index.keys() and len(code2node.keys()) > 1\n",
    "index = None"
   ]
  },
  {
   "cell_type": "code",
   "execution_count": null,
   "metadata": {},
   "outputs": [],
   "source": [
    "found = False\n",
    "q = [(code2node[maintype], \"\", 0)]\n",
    "vis = set()\n",
    "while q:\n",
    "    n, who, lvl = q.pop(0)\n",
    "    if n.id in vis:\n",
    "        continue\n",
    "    vis.add(n.id)\n",
    "    print(\"\\t\" * lvl, \"| \" + who + \" <-\", \"(\" + n.id + \")\", n.data[\"name\"])\n",
    "    for link in n.links:\n",
    "        if link.id not in vis:\n",
    "            q.append((link, n.id, lvl + 1))\n"
   ]
  },
  {
   "cell_type": "markdown",
   "metadata": {},
   "source": [
    "#### Other investigation of full collection"
   ]
  },
  {
   "cell_type": "code",
   "execution_count": null,
   "metadata": {},
   "outputs": [],
   "source": [
    "with open(\"../../.rest-client/bladder_stage_iva.json\") as f:\n",
    "    data = json.load(f)[\"data\"]\n",
    "df = pd.json_normalize(data, record_path=\"diseases\", meta=[\"nct_id\"]).drop(\n",
    "    labels=[\"synonyms\"], axis=1\n",
    ")\n",
    "print(df.shape)\n",
    "df.tail()"
   ]
  },
  {
   "cell_type": "code",
   "execution_count": null,
   "metadata": {},
   "outputs": [],
   "source": [
    "search_codes = pd.Series([maintype, *stage])\n",
    "groupby = df[df[\"nci_thesaurus_concept_id\"].isin(search_codes)].groupby(by=\"nct_id\")[\n",
    "    [\"name\", \"inclusion_indicator\"]\n",
    "]\n",
    "assert (\n",
    "    len(groupby) == len(data) and len(groupby) >= 1\n",
    "), \"Every trial must have the maintype and one of the stage codes\"\n",
    "groupby.apply(lambda x: x)"
   ]
  },
  {
   "cell_type": "code",
   "execution_count": 5,
   "metadata": {},
   "outputs": [],
   "source": [
    "import re\n",
    "import psycopg2 as pg\n",
    "import json"
   ]
  },
  {
   "cell_type": "code",
   "execution_count": null,
   "metadata": {},
   "outputs": [],
   "source": [
    "with open('../../.rest-client/hnc_stages.json') as f:\n",
    "    data = json.load(f)['data']\n",
    "data[:3]"
   ]
  },
  {
   "cell_type": "code",
   "execution_count": 7,
   "metadata": {},
   "outputs": [],
   "source": [
    "conn = pg.connect(dbname=\"sec\", user=\"secapp\", host=\"r_363-postgres-1\", port=5432)\n",
    "curr = conn.cursor()"
   ]
  },
  {
   "cell_type": "code",
   "execution_count": 8,
   "metadata": {},
   "outputs": [],
   "source": [
    "curr.execute(\"\"\"create table if not exists secapp.hnc_stages\n",
    "    (\n",
    "        pref_name text,\n",
    "        code text,\n",
    "        parent text\n",
    "    )\n",
    "\"\"\")\n",
    "conn.commit()"
   ]
  },
  {
   "cell_type": "code",
   "execution_count": 9,
   "metadata": {},
   "outputs": [],
   "source": [
    "for d in data:\n",
    "    for c in d['codes']:\n",
    "        for p in d['parent_ids']:\n",
    "            curr.execute(\"insert into hnc_stages values (%s, %s, %s)\", (d['name'], c, p))\n",
    "conn.commit()"
   ]
  },
  {
   "cell_type": "code",
   "execution_count": 10,
   "metadata": {},
   "outputs": [],
   "source": [
    "curr.close()\n",
    "conn.close()"
   ]
  }
 ],
 "metadata": {
  "kernelspec": {
   "display_name": "venv",
   "language": "python",
   "name": "python3"
  },
  "language_info": {
   "codemirror_mode": {
    "name": "ipython",
    "version": 3
   },
   "file_extension": ".py",
   "mimetype": "text/x-python",
   "name": "python",
   "nbconvert_exporter": "python",
   "pygments_lexer": "ipython3",
   "version": "3.10.16"
  }
 },
 "nbformat": 4,
 "nbformat_minor": 2
}
