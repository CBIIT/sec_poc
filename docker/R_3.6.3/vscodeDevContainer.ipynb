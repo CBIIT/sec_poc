{
 "cells": [
  {
   "cell_type": "markdown",
   "metadata": {},
   "source": [
    "#### Vscode has a Dev Containers extension for creating Dockerized development environments\n",
    "\n",
    "https://marketplace.visualstudio.com/items?itemName=ms-vscode-remote.remote-containers\n",
    "\n",
    "This guide includes the instructions for creating a Dev Container environment for running the Shiny App using R 3.6.3."
   ]
  },
  {
   "cell_type": "markdown",
   "metadata": {},
   "source": [
    "#### Start by pulling or building the oel8/Dockerfile image"
   ]
  },
  {
   "cell_type": "code",
   "execution_count": null,
   "metadata": {},
   "outputs": [],
   "source": [
    "!docker build -t sec_poc/R .\n",
    "# or\n",
    "!docker pull crouchcd/oel8-r:3.6.0"
   ]
  },
  {
   "cell_type": "markdown",
   "metadata": {},
   "source": [
    "#### Start the docker application with docker-compose"
   ]
  },
  {
   "cell_type": "code",
   "execution_count": null,
   "metadata": {},
   "outputs": [],
   "source": [
    "# start the application stack, which includes a PostgreSQL instance, in detached mode.\n",
    "# NOTE: it has hardcoded your bind-mounted volume to exist at /Users/<your_user>/Desktop/sec_poc_workspace, you can change that\n",
    "!docker-compose up -d"
   ]
  },
  {
   "cell_type": "markdown",
   "metadata": {},
   "source": [
    "Now inside of Vscode (making sure that the dev container extension is installed), you should be able to connect to the R App container.\n",
    "\n",
    "See the command > Dev Containers: Attach to Running Container..."
   ]
  },
  {
   "cell_type": "markdown",
   "metadata": {},
   "source": [
    ".vscode start with empty workspace. Add folders as needed (e.g., sec_poc, sec_admin). Save \"workspace as...\""
   ]
  },
  {
   "cell_type": "markdown",
   "metadata": {},
   "source": [
    "#### Install these system packages for better developer experience"
   ]
  },
  {
   "cell_type": "code",
   "execution_count": null,
   "metadata": {},
   "outputs": [],
   "source": [
    "# For tracking file changes. If mounting as a Docker volume, the .git/ folder should already be initialized to the sec_poc repo.\n",
    "!sudo dnf install -y git\n",
    "# Add GitHub CLI for `gh auth login`\n",
    "!sudo dnf config-manager --add-repo https://cli.github.com/packages/rpm/gh-cli.repo\n",
    "!sudo dnf install -y gh --repo gh-cli\n",
    "# For watching file changes while running shiny::runApp. See sec_poc/watch.sh\n",
    "!sudo dnf install -y inotify-tools\n",
    "# For installing/building Python via Pyenv. See .python-version for expected python version.\n",
    "!sudo dnf install -y ncurses-devel readline-devel libffi-devel\n",
    "# Installs psql to connect to the Postgres container\n",
    "# Install the repository RPM:\n",
    "!sudo dnf install -y https://download.postgresql.org/pub/repos/yum/reporpms/EL-8-x86_64/pgdg-redhat-repo-latest.noarch.rpm\n",
    "# Disable the built-in PostgreSQL module:\n",
    "!sudo dnf -qy module disable postgresql\n",
    "# Install PostgreSQL Client (psql):\n",
    "!sudo dnf install -y postgresql16-client\n"
   ]
  },
  {
   "cell_type": "markdown",
   "metadata": {},
   "source": [
    "#### Missing R packages"
   ]
  },
  {
   "cell_type": "code",
   "execution_count": null,
   "metadata": {},
   "outputs": [],
   "source": [
    "!Rscript -e 'pak::pkg_install(\"cran/config@0.3.2\")'"
   ]
  },
  {
   "cell_type": "markdown",
   "metadata": {},
   "source": [
    "#### R Debugger Extension\n",
    "\n",
    "See the recommended extensions in [.vscode/extensions.json](../../.vscode/extensions.json)"
   ]
  },
  {
   "cell_type": "markdown",
   "metadata": {},
   "source": [
    "#### Additional software"
   ]
  },
  {
   "cell_type": "markdown",
   "metadata": {},
   "source": [
    "- Pyenv\n",
    "\n",
    "Python is used for database ETL scripts."
   ]
  },
  {
   "cell_type": "code",
   "execution_count": null,
   "metadata": {},
   "outputs": [],
   "source": [
    "!curl https://pyenv.run | bash\n",
    "# Add the init commands to ~/.bashrc"
   ]
  },
  {
   "cell_type": "markdown",
   "metadata": {},
   "source": [
    "- Starship (Customizable shell prompt) (optional)"
   ]
  },
  {
   "cell_type": "code",
   "execution_count": null,
   "metadata": {},
   "outputs": [],
   "source": [
    "!curl -sS https://starship.rs/install.sh | sh\n",
    "# Add the init command to ~/.bashrc"
   ]
  },
  {
   "cell_type": "markdown",
   "metadata": {},
   "source": [
    "#### Docker networking\n",
    "\n",
    "Assuming that the R App and PostgreSQL containers are in the same network, the container name can be used as the hostname when connecting to the container. Or the hostname can be `host.docker.internal`. `host.docker.internal` can also be used to connect from the host to the container on an exposed port. For example, `psql -h host.docker.internal -d sec -U secapp`"
   ]
  },
  {
   "cell_type": "markdown",
   "metadata": {},
   "source": [
    "#### PostgreSQL\n",
    "\n",
    "It's easier to save the connection params in ~/.pgpass so that psql doesn't prompt for password everytime"
   ]
  },
  {
   "cell_type": "markdown",
   "metadata": {},
   "source": [
    "#### Jupyter\n",
    "\n",
    "See this guide for using R in Jupyter Notebooks. Make sure that Jupyter is installed in the Python environment.\n",
    "https://stackoverflow.com/questions/56497422/using-jupyter-r-kernel-with-visual-studio-code"
   ]
  }
 ],
 "metadata": {
  "language_info": {
   "name": "python"
  }
 },
 "nbformat": 4,
 "nbformat_minor": 2
}
