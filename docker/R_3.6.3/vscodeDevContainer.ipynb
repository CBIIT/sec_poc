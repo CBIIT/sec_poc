{
 "cells": [
  {
   "cell_type": "markdown",
   "metadata": {},
   "source": [
    "#### Vscode has a Dev Containers extension for creating Dockerized development environments\n",
    "\n",
    "https://marketplace.visualstudio.com/items?itemName=ms-vscode-remote.remote-containers\n",
    "\n",
    "This guide includes the instructions for creating a Dev Container environment for running the Shiny App using R 3.6.3."
   ]
  },
  {
   "cell_type": "markdown",
   "metadata": {},
   "source": [
    "#### Start by building the sec_poc/R image"
   ]
  },
  {
   "cell_type": "code",
   "execution_count": null,
   "metadata": {},
   "outputs": [],
   "source": [
    "!docker build -t sec_poc/R ."
   ]
  },
  {
   "cell_type": "markdown",
   "metadata": {},
   "source": [
    "#### Start the docker application with docker-compose"
   ]
  },
  {
   "cell_type": "code",
   "execution_count": null,
   "metadata": {},
   "outputs": [],
   "source": [
    "# start the application in detached mode\n",
    "!docker-compose up -d"
   ]
  },
  {
   "cell_type": "markdown",
   "metadata": {},
   "source": [
    "Now inside of Vscode (making sure that the dev container extension is installed), you should be able to connect to the R App container.\n",
    "\n",
    "See the command > Dev Containers: Attach to Running Container..."
   ]
  },
  {
   "cell_type": "markdown",
   "metadata": {},
   "source": [
    "#### Install these system packages for better developer experience"
   ]
  },
  {
   "cell_type": "code",
   "execution_count": null,
   "metadata": {},
   "outputs": [],
   "source": [
    "!apt update\n",
    "# For tracking file changes. If mounting as a Docker volume, the .git/ folder should already be initialized to the sec_poc repo.\n",
    "!apt install git\n",
    "# For watching file changes while running shiny::runApp. See sec_poc/watch.sh\n",
    "!apt install inotify-tools\n",
    "# For Python ctypes, issues occurred when using pyenv to install 3.10\n",
    "!apt install libffi-dev\n",
    "# Installs psql to connect to the Postgres container\n",
    "!apt install postgresql-client\n"
   ]
  },
  {
   "cell_type": "markdown",
   "metadata": {},
   "source": [
    "#### R Debugger Extension\n",
    "https://marketplace.visualstudio.com/items?itemName=RDebugger.r-debugger\n",
    "\n",
    "The R Debugger extension relies on the vscDebugger R package. To install it to R 3.6, you must build it from source.\n",
    "\n",
    "1. Copy the source code from https://github.com/ManuelHentschel/vscDebugger. "
   ]
  },
  {
   "cell_type": "markdown",
   "metadata": {},
   "source": [
    "Copy it from the host machine and paste it in the devContainer's main workspace directory (which should be the shared volume)."
   ]
  },
  {
   "cell_type": "markdown",
   "metadata": {},
   "source": [
    "2. Build it,"
   ]
  },
  {
   "cell_type": "code",
   "execution_count": null,
   "metadata": {},
   "outputs": [],
   "source": [
    "!Rscript vscDebugger/build.R"
   ]
  },
  {
   "cell_type": "markdown",
   "metadata": {},
   "source": [
    "The build will complain about building vignettes which relies on Pandoc.\n"
   ]
  },
  {
   "cell_type": "code",
   "execution_count": null,
   "metadata": {},
   "outputs": [],
   "source": [
    "!R -e \"install.packages('pandoc')\""
   ]
  },
  {
   "cell_type": "code",
   "execution_count": null,
   "metadata": {},
   "outputs": [],
   "source": [
    "# Install the pandoc binary\n",
    "!R -e \"pandoc::pandoc_install()\""
   ]
  },
  {
   "cell_type": "markdown",
   "metadata": {},
   "source": [
    "This will likely install it to `/root/.local/share` which you should symlink to `/usr/local/bin`."
   ]
  },
  {
   "cell_type": "code",
   "execution_count": null,
   "metadata": {},
   "outputs": [],
   "source": [
    "!ln -s /root/.local/share/r-pandoc/3.1.12.3/pandoc-3.1.12.3/bin/pandoc /usr/local/bin/"
   ]
  },
  {
   "cell_type": "code",
   "execution_count": null,
   "metadata": {},
   "outputs": [],
   "source": [
    "# Verify that pandoc is in the PATH\n",
    "!which pandoc"
   ]
  },
  {
   "cell_type": "markdown",
   "metadata": {},
   "source": [
    "The build.R script does not make the folders it creates writable, so it will encounter Permissions denied errors on file copies to these created folders. As this happens, delete the folder with insufficient write permissions and recreate it as the root user (write should be enabled by default)."
   ]
  },
  {
   "cell_type": "code",
   "execution_count": null,
   "metadata": {},
   "outputs": [],
   "source": [
    "# For example,\n",
    "#!rm -rf vscDebugger/docs\n",
    "#!mkdir vscDebugger/docs"
   ]
  },
  {
   "cell_type": "markdown",
   "metadata": {},
   "source": [
    "Once the build succeeds, the vscDebugger package should be installed to the site-library LibPath"
   ]
  },
  {
   "cell_type": "markdown",
   "metadata": {},
   "source": [
    "#### R Language Extension\n",
    "https://marketplace.visualstudio.com/items?itemName=REditorSupport.r"
   ]
  },
  {
   "cell_type": "code",
   "execution_count": null,
   "metadata": {},
   "outputs": [],
   "source": [
    "# Install the required extension packages\n",
    "!R -e \"install.packages('languageserver')\""
   ]
  },
  {
   "cell_type": "markdown",
   "metadata": {},
   "source": [
    ":tada: The vscode dev container should be ready to go! You now have R syntax highlighting, intellisense, and debugging built-in to Vscode."
   ]
  },
  {
   "cell_type": "markdown",
   "metadata": {},
   "source": [
    "#### Additional software"
   ]
  },
  {
   "cell_type": "markdown",
   "metadata": {},
   "source": [
    "- Pyenv\n",
    "\n",
    "Python is used for database ETL scripts."
   ]
  },
  {
   "cell_type": "code",
   "execution_count": null,
   "metadata": {},
   "outputs": [],
   "source": [
    "!curl https://pyenv.run | bash\n",
    "# Add the init commands to ~/.bashrc"
   ]
  },
  {
   "cell_type": "markdown",
   "metadata": {},
   "source": [
    "- Starship (Customizable shell prompt) (optional)"
   ]
  },
  {
   "cell_type": "code",
   "execution_count": null,
   "metadata": {},
   "outputs": [],
   "source": [
    "!curl -sS https://starship.rs/install.sh | sh\n",
    "# Add the init command to ~/.bashrc"
   ]
  },
  {
   "cell_type": "markdown",
   "metadata": {},
   "source": [
    "#### Docker networking\n",
    "\n",
    "Assuming that the R App and PostgreSQL containers are in the same network, the container name can be used as the hostname when connecting to the container. Or the hostname can be `host.docker.internal`. `host.docker.internal` can also be used to connect from the host to the container on an exposed port. For example, `psql -h host.docker.internal -d sec -U secapp`"
   ]
  },
  {
   "cell_type": "markdown",
   "metadata": {},
   "source": [
    "#### PostgreSQL\n",
    "\n",
    "It's easier to save the connection params in ~/.pgpass so that psql doesn't prompt for password everytime"
   ]
  },
  {
   "cell_type": "markdown",
   "metadata": {},
   "source": [
    "#### Jupyter\n",
    "\n",
    "See this guide for using R in Jupyter Notebooks. Make sure that Jupyter is installed in the Python environment.\n",
    "https://stackoverflow.com/questions/56497422/using-jupyter-r-kernel-with-visual-studio-code"
   ]
  }
 ],
 "metadata": {
  "language_info": {
   "name": "python"
  }
 },
 "nbformat": 4,
 "nbformat_minor": 2
}
