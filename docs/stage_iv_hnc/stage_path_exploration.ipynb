{
 "cells": [
  {
   "cell_type": "code",
   "execution_count": 1,
   "metadata": {},
   "outputs": [],
   "source": [
    "import psycopg2 as pg\n",
    "import ipywidgets as widgets"
   ]
  },
  {
   "cell_type": "code",
   "execution_count": 2,
   "metadata": {},
   "outputs": [],
   "source": [
    "conn = pg.connect(dbname=\"sec\", user=\"secapp\", host=\"r_363-postgres-1\")\n",
    "curr = conn.cursor()"
   ]
  },
  {
   "cell_type": "markdown",
   "metadata": {},
   "source": [
    "get the undifferentiated terms"
   ]
  },
  {
   "cell_type": "code",
   "execution_count": null,
   "metadata": {},
   "outputs": [],
   "source": [
    "substage = widgets.Dropdown(\n",
    "    options=[(\"IVA\", \"\\yiva\\y\"), (\"IVB\", \"\\yivb\\y\"), (\"IVC\", \"\\yivc\\y\")],\n",
    "    description=\"Substage\",\n",
    ")\n",
    "substage"
   ]
  },
  {
   "cell_type": "code",
   "execution_count": null,
   "metadata": {},
   "outputs": [],
   "source": [
    "substage_regexp = substage.value\n",
    "curr.execute(\n",
    "    \"select pref_name,code from hnc_stages where pref_name ~* %s and pref_name ~* 'undiff'\",\n",
    "    (substage_regexp,),\n",
    ")\n",
    "undiff_substage_terms = curr.fetchall()\n",
    "for row in undiff_substage_terms:\n",
    "    print(row)"
   ]
  },
  {
   "cell_type": "code",
   "execution_count": null,
   "metadata": {},
   "outputs": [],
   "source": [
    "undiff_code = widgets.Dropdown(\n",
    "    options=undiff_substage_terms,\n",
    "    description='Substage',\n",
    ")\n",
    "undiff_code"
   ]
  },
  {
   "cell_type": "markdown",
   "metadata": {},
   "source": [
    "locate the higher order stage terms for the undifferentiated terms"
   ]
  },
  {
   "cell_type": "code",
   "execution_count": null,
   "metadata": {},
   "outputs": [],
   "source": [
    "selected_name = [t[0] for t in undiff_substage_terms if t[1] == undiff_code.value][0]\n",
    "keyword = widgets.Dropdown(\n",
    "    options=selected_name.split(),\n",
    "    description='Keyword',\n",
    ")\n",
    "keyword"
   ]
  },
  {
   "cell_type": "markdown",
   "metadata": {},
   "source": [
    "check if any of the higher order stage terms are parents of the undiff terms"
   ]
  },
  {
   "cell_type": "code",
   "execution_count": null,
   "metadata": {},
   "outputs": [],
   "source": [
    "selected_substage = [t[0] for t in undiff_substage_terms if t[1] == undiff_code.value][\n",
    "    0\n",
    "]\n",
    "print(\"Selected undiff term ----\")\n",
    "print(undiff_code.value, selected_substage, '\\n')\n",
    "\n",
    "curr.execute(\n",
    "    \"select code, pref_name from hnc_stages where pref_name ~* '\\yiv\\y' and pref_name ~* %s\",\n",
    "    (keyword.value,),\n",
    ")\n",
    "higher_order_stage_terms = curr.fetchall()\n",
    "print(f\"Possible {keyword.value} parents ----\")\n",
    "for row in higher_order_stage_terms:\n",
    "    print(row)\n",
    "\n",
    "print(\"\\nFound paths ----\")\n",
    "for row in higher_order_stage_terms:\n",
    "    parent = row[0]\n",
    "    curr.execute(\n",
    "        \"\"\"select path from ncit_tc_with_path where parent = %s and descendant = %s\"\"\",\n",
    "        (parent, undiff_code.value),\n",
    "    )\n",
    "    paths = curr.fetchall()\n",
    "    for path in paths:\n",
    "        codes = path[0].split(\"|\")\n",
    "        t = 0\n",
    "        for code in codes:\n",
    "            curr.execute(\"select code, pref_name from ncit where code = %s\", (code,))\n",
    "            term = curr.fetchone()\n",
    "            print(\"\\t\" * t, term)\n",
    "            t += 1"
   ]
  },
  {
   "cell_type": "code",
   "execution_count": 6,
   "metadata": {},
   "outputs": [],
   "source": [
    "conn.rollback()"
   ]
  },
  {
   "cell_type": "code",
   "execution_count": null,
   "metadata": {},
   "outputs": [],
   "source": [
    "curr.close()\n",
    "conn.close()"
   ]
  }
 ],
 "metadata": {
  "kernelspec": {
   "display_name": "venv",
   "language": "python",
   "name": "python3"
  },
  "language_info": {
   "codemirror_mode": {
    "name": "ipython",
    "version": 3
   },
   "file_extension": ".py",
   "mimetype": "text/x-python",
   "name": "python",
   "nbconvert_exporter": "python",
   "pygments_lexer": "ipython3",
   "version": "3.10.14"
  }
 },
 "nbformat": 4,
 "nbformat_minor": 2
}
