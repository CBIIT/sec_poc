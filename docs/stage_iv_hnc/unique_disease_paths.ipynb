{
 "cells": [
  {
   "cell_type": "code",
   "execution_count": 141,
   "metadata": {},
   "outputs": [],
   "source": [
    "import pandas as pd\n",
    "import glob"
   ]
  },
  {
   "cell_type": "code",
   "execution_count": 150,
   "metadata": {},
   "outputs": [],
   "source": [
    "table_files = glob.glob(\"*.csv\")\n",
    "search_codes = {\n",
    "    \"C159685\",\n",
    "    \"C132788\",\n",
    "    \"C140985\",\n",
    "    \"C140997\",\n",
    "    \"C141001\",\n",
    "    \"C133162\",\n",
    "    \"C6005\",\n",
    "    \"C133000\",\n",
    "}\n"
   ]
  },
  {
   "cell_type": "code",
   "execution_count": 151,
   "metadata": {},
   "outputs": [],
   "source": [
    "def dfs(current, df):\n",
    "    parents = df.loc[df[\"code\"] == current, \"parent\"]\n",
    "    if pd.isna(parents).all():\n",
    "        return [[current]]\n",
    "    else:\n",
    "        paths = []\n",
    "        for parent in parents:\n",
    "            parent_paths = dfs(parent, df)\n",
    "            for path in parent_paths:\n",
    "                paths.append([current, *path])\n",
    "        return paths\n",
    "\n",
    "\n",
    "def flatten_df(df):\n",
    "    code2parent = []\n",
    "    for _, row in df.iterrows():\n",
    "        parents: list[str] | list[None] = [None]\n",
    "        if pd.notna(row[\"parents\"]):\n",
    "            if \",\" in row[\"parents\"]:\n",
    "                parents = [p.strip() for p in row[\"parents\"].split(\",\")]\n",
    "            else:\n",
    "                parents = [row[\"parents\"]]\n",
    "\n",
    "        for parent in parents:\n",
    "            code2parent.append((row[\"code\"], parent))\n",
    "    df = pd.DataFrame(code2parent, columns=[\"code\", \"parent\"])\n",
    "    df.sort_values(\"code\")\n",
    "    return df"
   ]
  },
  {
   "cell_type": "code",
   "execution_count": null,
   "metadata": {},
   "outputs": [],
   "source": [
    "saved_disease_paths = {}\n",
    "saved_disease_paths_origin = {}\n",
    "visited_codes = set()\n",
    "\n",
    "for file in table_files:\n",
    "    df = pd.read_csv(file)[[\"code\", \"parents\", \"disease\"]]\n",
    "    assert (\n",
    "        not df[\"code\"].str.contains(\",\").any()\n",
    "    ), \"Ensure disease code appears only once per df\"\n",
    "    df = flatten_df(df)\n",
    "\n",
    "    for code in search_codes:\n",
    "        trial_disease_paths = dfs(code, df)\n",
    "        code_disease_paths = set()\n",
    "        for path in trial_disease_paths:\n",
    "            if len(path) <= 1:\n",
    "                continue\n",
    "            code_disease_paths.add(\"|\".join(path))\n",
    "        if len(code_disease_paths) < 1:\n",
    "            continue\n",
    "        if code in saved_disease_paths:\n",
    "            assert (\n",
    "                code_disease_paths == saved_disease_paths[code]\n",
    "            ), \"Ensure disease paths are consistent across all trials\"\n",
    "        else:\n",
    "            saved_disease_paths[code] = code_disease_paths\n",
    "            saved_disease_paths_origin[code] = file"
   ]
  }
 ],
 "metadata": {
  "kernelspec": {
   "display_name": "venv",
   "language": "python",
   "name": "python3"
  },
  "language_info": {
   "codemirror_mode": {
    "name": "ipython",
    "version": 3
   },
   "file_extension": ".py",
   "mimetype": "text/x-python",
   "name": "python",
   "nbconvert_exporter": "python",
   "pygments_lexer": "ipython3",
   "version": "3.10.14"
  }
 },
 "nbformat": 4,
 "nbformat_minor": 2
}
