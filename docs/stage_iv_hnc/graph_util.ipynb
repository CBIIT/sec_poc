{
 "cells": [
  {
   "cell_type": "code",
   "execution_count": 1,
   "metadata": {},
   "outputs": [],
   "source": [
    "import psycopg2 as pg"
   ]
  },
  {
   "cell_type": "code",
   "execution_count": 2,
   "metadata": {},
   "outputs": [],
   "source": [
    "conn = pg.connect(dbname='sec', user='secapp', host='r_363-postgres-1')\n",
    "curr = conn.cursor()"
   ]
  },
  {
   "cell_type": "code",
   "execution_count": 3,
   "metadata": {},
   "outputs": [],
   "source": [
    "class Node:\n",
    "    code: str\n",
    "    children: list[\"Node\"]\n",
    "    child_codes: set[str]\n",
    "\n",
    "    def __init__(self, code) -> None:\n",
    "        self.code = code\n",
    "        self.children = []\n",
    "        self.child_codes = set()\n",
    "\n",
    "    def get(self, code):\n",
    "        if self.code == code:\n",
    "            return self\n",
    "        else:\n",
    "            for child in self.children:\n",
    "                node = child.get(code)\n",
    "                if node:\n",
    "                    return node\n",
    "            return None\n",
    "\n",
    "    def insert(self, parent: 'Node', code: str):\n",
    "        if parent.code == code:\n",
    "            return None\n",
    "\n",
    "        if self is parent:\n",
    "            if code not in self.child_codes:\n",
    "                self.child_codes.add(code)\n",
    "                self.children.append(Node(code))\n",
    "            return [child for child in self.children if child.code == code][0]\n",
    "        else:\n",
    "            for child in self.children:\n",
    "                node = child.insert(parent, code)\n",
    "                if node:\n",
    "                    return node\n",
    "            return None\n",
    "\n",
    "    def __repr__(self) -> str:\n",
    "        return f\"<Node>({self.code})\""
   ]
  },
  {
   "cell_type": "code",
   "execution_count": 75,
   "metadata": {},
   "outputs": [],
   "source": [
    "paths = []\n",
    "with open('paths.txt') as f:\n",
    "    for line in f:\n",
    "        paths.append(line.strip())\n",
    "# paths = [\"C35850|C9315|C132728|C132732|C132733\"]"
   ]
  },
  {
   "cell_type": "code",
   "execution_count": 76,
   "metadata": {},
   "outputs": [],
   "source": [
    "visited = set()\n",
    "printed_dupe = False\n",
    "\n",
    "\n",
    "def printgraph(node: Node, level=0):\n",
    "    global printed_dupe\n",
    "    if node.code in visited:\n",
    "        if not printed_dupe:\n",
    "            outfile.write(\"\\t\" * level + f\" - ({node.code}) dupe* \\n\")\n",
    "            printed_dupe = True\n",
    "    elif node.code:\n",
    "        printed_dupe = False\n",
    "        curr.execute(\"select pref_name from ncit where code = %s\", (node.code,))\n",
    "        name = curr.fetchone()[0]\n",
    "        outfile.write(\"\\t\" * level + \" - (\" + node.code + \") \" + name + \"\\n\")\n",
    "        visited.add(node.code)\n",
    "    else:\n",
    "        printed_dupe = False\n",
    "        outfile.write(\"- root\" + \"\\n\")\n",
    "        visited.add(None)\n",
    "    for child in node.children:\n",
    "        printgraph(child, level + 1)"
   ]
  },
  {
   "cell_type": "code",
   "execution_count": 77,
   "metadata": {},
   "outputs": [],
   "source": [
    "root = Node(None)\n",
    "for path in paths:\n",
    "    codes = path.split(\"|\")\n",
    "    parent = root\n",
    "    current = None\n",
    "    for code in codes:\n",
    "        current = root.insert(parent, code)\n",
    "        if current:\n",
    "            parent = current"
   ]
  },
  {
   "cell_type": "code",
   "execution_count": 78,
   "metadata": {},
   "outputs": [],
   "source": [
    "outfile = open(\"paths.out.txt\", \"w\")\n",
    "printgraph(root)\n",
    "outfile.close()"
   ]
  }
 ],
 "metadata": {
  "kernelspec": {
   "display_name": "venv",
   "language": "python",
   "name": "python3"
  },
  "language_info": {
   "codemirror_mode": {
    "name": "ipython",
    "version": 3
   },
   "file_extension": ".py",
   "mimetype": "text/x-python",
   "name": "python",
   "nbconvert_exporter": "python",
   "pygments_lexer": "ipython3",
   "version": "3.10.14"
  }
 },
 "nbformat": 4,
 "nbformat_minor": 2
}
