{
 "cells": [
  {
   "cell_type": "code",
   "execution_count": null,
   "metadata": {
    "vscode": {
     "languageId": "r"
    }
   },
   "outputs": [],
   "source": [
    "library(httr)\n",
    "library(data.table)\n",
    "library(dplyr)\n",
    "library(jsonlite)\n",
    "source('../../get_api_studies_for_disease.R')\n",
    "getwd()\n",
    "CTS_V2_API_KEY <- Sys.getenv(\"CTS_V2_API_KEY\")\n"
   ]
  },
  {
   "cell_type": "code",
   "execution_count": null,
   "metadata": {
    "vscode": {
     "languageId": "r"
    }
   },
   "outputs": [],
   "source": [
    "PAGE_SIZE <- 50\n",
    "BC <- c(\"C4872\") # Breast Cancer\n",
    "STAGE_II_BC_CODES <- c(\"C7768\", \"C139569\", \"C139538\") # Stage II Breast Cancer (w/ AJCC versions)\n",
    "#' Even though the filters don't include Stage IIA or IIB, the CTS API will find trials that have those coded at the TRIAL-level\n",
    "EXPECTED_DISEASE_MATCHES <- c(\"Stage II Breast Cancer\", \"Stage IIA Breast Cancer\", \"Stage IIB Breast Cancer\")\n",
    "INCLUDE_FIELDS <- c(\n",
    "  \"nct_id\",\n",
    "  \"diseases\",\n",
    "  \"current_trial_status\",\n",
    "  \"primary_purpose\",\n",
    "  \"sites.recruitment_status\"\n",
    ")\n",
    "\n",
    "#' Defaults to search maintype = Breast Carcinoma and subtype = Stage ii.\n",
    "#' If only searching active trials, then this works out the same as the SEC POC search when it\n",
    "#' filters primary purpose of TREAMENT and excludes site.recruitment_status.\n",
    "search_like_cancer.gov <- function(\n",
    "    maintype_codes = BC,\n",
    "    stage_codes = STAGE_II_BC_CODES,\n",
    "    from = 0,\n",
    "    size = PAGE_SIZE) {\n",
    "  response <- httr::POST(\n",
    "    \"https://clinicaltrialsapi.cancer.gov/api/v2/trials\",\n",
    "    body = list(\n",
    "      current_trial_status = c(\n",
    "        \"Active\"\n",
    "        # \"Approved\",\n",
    "        # \"Enrolling by Invitation\",\n",
    "        # \"In Review\",\n",
    "        # \"Temporarily Closed to Accrual\",\n",
    "        # \"Temporarily Closed to Accrual and Intervention\"\n",
    "      ),\n",
    "      primary_purpose = c(\n",
    "        \"TREATMENT\"\n",
    "      ),\n",
    "      include = INCLUDE_FIELDS,\n",
    "      maintype = maintype_codes,\n",
    "      stage = stage_codes,\n",
    "      from = from,\n",
    "      size = size\n",
    "    ),\n",
    "    encode = \"json\",\n",
    "    httr::add_headers(`x-api-key` = CTS_V2_API_KEY, `Content-Type` = \"application/json\"),\n",
    "    httr::timeout(4)\n",
    "  )\n",
    "  data <- httr::content(response)\n",
    "  assertthat::assert_that(response$status_code == 200, msg = paste(\"Response status is\", response$status_code))\n",
    "  return(data)\n",
    "}\n",
    "\n",
    "#' Defaults to search diseases.nci_thesaurus_concept_id = Stage ii Breast cancer\n",
    "search_like_sec_poc <- function(\n",
    "    ncit_code = STAGE_II_BC_CODES,\n",
    "    from = 0,\n",
    "    size = PAGE_SIZE) {\n",
    "  response <- httr::POST(\n",
    "    \"https://clinicaltrialsapi.cancer.gov/api/v2/trials\",\n",
    "    body = list(\n",
    "      current_trial_status = c(\n",
    "        \"Active\"\n",
    "      ),\n",
    "      primary_purpose = c(\n",
    "        \"TREATMENT\"\n",
    "        # \"SCREENING\"\n",
    "      ),\n",
    "      diseases.nci_thesaurus_concept_id = ncit_code,\n",
    "      # sites.recruitment_status = \"ACTIVE\",\n",
    "      include = INCLUDE_FIELDS,\n",
    "      from = from,\n",
    "      size = size\n",
    "    ),\n",
    "    encode = \"json\",\n",
    "    httr::add_headers(`x-api-key` = CTS_V2_API_KEY, `Content-Type` = \"application/json\"),\n",
    "    httr::timeout(4)\n",
    "  )\n",
    "  data <- httr::content(response)\n",
    "  assertthat::assert_that(response$status_code == 200, msg = paste(\"Response status is\", response$status_code))\n",
    "  return(data)\n",
    "}\n",
    "\n",
    "paginate_cts_api <- function(paged_data, total_expected, FUN) {\n",
    "  print(paste(\"    Expecting:\", total_expected))\n",
    "  while (length(paged_data) < total_expected) {\n",
    "    data <- FUN(from = length(paged_data))\n",
    "    paged_data <- append(paged_data, data$data)\n",
    "    print(paste(\"          Got:\", length(data$data)))\n",
    "    print(paste(\"        Total:\", length(paged_data)))\n",
    "  }\n",
    "  return(paged_data)\n",
    "}\n",
    "\n",
    "flatten_trials <- function(trials) {\n",
    "  diseases <- data.frame()\n",
    "  for (trial in trials) {\n",
    "    for (d in trial$diseases) {\n",
    "      df <- data.frame(\n",
    "        nct_id = trial$nct_id,\n",
    "        primary_purpose = trial$primary_purpose,\n",
    "        current_trial_status = toString(trial$current_trial_status),\n",
    "        sites.recruitment_status = ifelse(\"ACTIVE\" %in% unlist(trial$sites, use.names = FALSE), \"ACTIVE\", \"NO_ACTIVE\"),\n",
    "        inclusion_indicator = d$inclusion_indicator,\n",
    "        is_lead_disease = d$is_lead_disease,\n",
    "        type = toString(d$type),\n",
    "        name = d$name,\n",
    "        nci_thesaurus_concept_id = d$nci_thesaurus_concept_id,\n",
    "        parents = toString(d$parents),\n",
    "        stringsAsFactors = FALSE\n",
    "      )\n",
    "      diseases <- rbind(diseases, df)\n",
    "    }\n",
    "  }\n",
    "  return(diseases)\n",
    "}\n"
   ]
  },
  {
   "cell_type": "markdown",
   "metadata": {},
   "source": [
    "#### Get Disease Maintypes (used in CTS API)\n",
    "\n",
    "---"
   ]
  },
  {
   "cell_type": "code",
   "execution_count": null,
   "metadata": {
    "vscode": {
     "languageId": "r"
    }
   },
   "outputs": [],
   "source": [
    "response <- GET(\n",
    "  paste0(\n",
    "    \"https://clinicaltrialsapi.cancer.gov/api/v2/diseases?type=maintype\",\n",
    "    # \"&type_not=subtype&type_not=stage&type_not=grade&type_not=finding\",\n",
    "    \"&include=count&include=codes&include=name&include=type\"\n",
    "  ),\n",
    "  add_headers(\n",
    "    `x-api-key` = CTS_V2_API_KEY, `Content-Type` = \"application/json\"\n",
    "  )\n",
    ")\n",
    "\n",
    "response$status_code\n",
    "contents <- content(response)\n"
   ]
  },
  {
   "cell_type": "code",
   "execution_count": null,
   "metadata": {
    "vscode": {
     "languageId": "r"
    }
   },
   "outputs": [],
   "source": [
    "terms <- data.frame()\n",
    "for (x in contents$data) {\n",
    "  tmp_df <- data.frame(\n",
    "    name = x$name,\n",
    "    codes = toString(x$codes),\n",
    "    type = toString(x$type),\n",
    "    count = x$count,\n",
    "    stringsAsFactors = FALSE\n",
    "  )\n",
    "  terms <- rbind(terms, tmp_df)\n",
    "}\n"
   ]
  },
  {
   "cell_type": "code",
   "execution_count": null,
   "metadata": {
    "vscode": {
     "languageId": "r"
    }
   },
   "outputs": [],
   "source": [
    "terms %>% arrange(name)"
   ]
  },
  {
   "cell_type": "code",
   "execution_count": null,
   "metadata": {
    "vscode": {
     "languageId": "r"
    }
   },
   "outputs": [],
   "source": [
    "terms[grep(\"lung\", terms$name, ignore.case = TRUE), ]"
   ]
  },
  {
   "cell_type": "markdown",
   "metadata": {},
   "source": [
    "#### Search Trials by Disease\n",
    "\n",
    "---"
   ]
  },
  {
   "cell_type": "code",
   "execution_count": null,
   "metadata": {
    "vscode": {
     "languageId": "r"
    }
   },
   "outputs": [],
   "source": [
    "page1 <- search_like_cancer.gov()\n",
    "all_pages_from_cancer.gov <- paginate_cts_api(page1$data, page1$total, search_like_cancer.gov)\n",
    "\n",
    "page1 <- search_like_sec_poc()\n",
    "all_pages_from_sec_poc <- paginate_cts_api(page1$data, page1$total, search_like_sec_poc)"
   ]
  },
  {
   "cell_type": "code",
   "execution_count": null,
   "metadata": {
    "vscode": {
     "languageId": "r"
    }
   },
   "outputs": [],
   "source": [
    "trials_cancer.gov <- flatten_trials(all_pages_from_cancer.gov)\n",
    "trials_sec_poc <- flatten_trials(all_pages_from_sec_poc)"
   ]
  },
  {
   "cell_type": "code",
   "execution_count": null,
   "metadata": {
    "vscode": {
     "languageId": "r"
    }
   },
   "outputs": [],
   "source": [
    "trial_only_cancer.gov <- trials_cancer.gov[trials_cancer.gov$inclusion_indicator == \"TRIAL\", ]\n",
    "trial_only_sec_poc <- trials_sec_poc[trials_sec_poc$inclusion_indicator == \"TRIAL\", ]\n",
    "\n",
    "cancer.gov_ids <- unique(trial_only_cancer.gov$nct_id)\n",
    "sec_poc_ids <- unique(trial_only_sec_poc$nct_id)\n",
    "\n",
    "overlap <- intersect(cancer.gov_ids, sec_poc_ids)\n",
    "length(overlap)\n",
    "\n",
    "disjoint_cancer.gov <- cancer.gov_ids[!cancer.gov_ids %in% overlap]\n",
    "disjoint_sec_poc <- sec_poc_ids[!sec_poc_ids %in% overlap]\n",
    "\n",
    "print(\"Overlapping\")\n",
    "unique(trial_only_cancer.gov[trial_only_cancer.gov$nct_id %in% overlap, c(\"current_trial_status\", \"sites.recruitment_status\", \"primary_purpose\")])\n",
    "\n",
    "print(\"Disjoint cancer.gov\")\n",
    "unique(trial_only_cancer.gov[trial_only_cancer.gov$nct_id %in% disjoint_cancer.gov, c(\"current_trial_status\", \"sites.recruitment_status\", \"primary_purpose\")])\n",
    "print(\"Disjoint SEC POC\")\n",
    "unique(trial_only_sec_poc[trial_only_sec_poc$nct_id %in% disjoint_sec_poc, c(\"current_trial_status\", \"sites.recruitment_status\", \"primary_purpose\")])\n"
   ]
  },
  {
   "cell_type": "markdown",
   "metadata": {},
   "source": [
    "> The disjoint cases are where the filters provided to CTS API differ. For example, SEC includes SCREENING in the results while cancer.gov did not.\n",
    "\n",
    "> But cancer.gov included statuses other than Active.\n"
   ]
  },
  {
   "cell_type": "code",
   "execution_count": null,
   "metadata": {
    "vscode": {
     "languageId": "r"
    }
   },
   "outputs": [],
   "source": [
    "cancer.gov_exp_disease_t <- trial_only_cancer.gov[trial_only_cancer.gov$name %in% EXPECTED_DISEASE_MATCHES, c(\"nct_id\", \"name\")]\n",
    "cancer.gov_exp_disease_t <- cancer.gov_exp_disease_t[which(unique(cancer.gov_exp_disease_t$nct_id) %in% cancer.gov_exp_disease_t$nct_id), ]\n",
    "row.names(cancer.gov_exp_disease_t) <- NULL\n",
    "str(cancer.gov_exp_disease_t)\n",
    "\n",
    "sec_poc_exp_disease_t <- trial_only_sec_poc[trial_only_sec_poc$name %in% EXPECTED_DISEASE_MATCHES, c(\"nct_id\", \"name\")]\n",
    "sec_poc_exp_disease_t <- sec_poc_exp_disease_t[which(unique(sec_poc_exp_disease_t$nct_id) %in% sec_poc_exp_disease_t$nct_id), ]\n",
    "row.names(sec_poc_exp_disease_t) <- NULL\n",
    "str(sec_poc_exp_disease_t)\n"
   ]
  }
 ],
 "metadata": {
  "kernelspec": {
   "display_name": "R",
   "language": "R",
   "name": "ir"
  },
  "language_info": {
   "codemirror_mode": "r",
   "file_extension": ".r",
   "mimetype": "text/x-r-source",
   "name": "R",
   "pygments_lexer": "r",
   "version": "3.6.3"
  }
 },
 "nbformat": 4,
 "nbformat_minor": 2
}
